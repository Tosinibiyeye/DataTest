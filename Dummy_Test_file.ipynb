{
 "cells": [
  {
   "cell_type": "markdown",
   "id": "a4933821-19b0-4977-ba17-f8d6902f045e",
   "metadata": {},
   "source": [
    "# Dummy Test data"
   ]
  },
  {
   "cell_type": "code",
   "execution_count": null,
   "id": "72a45010-ddee-4c12-bc5a-28a2bd015e97",
   "metadata": {},
   "outputs": [],
   "source": []
  },
  {
   "cell_type": "code",
   "execution_count": null,
   "id": "48c708fc-9e45-4f22-85c7-c670ae597557",
   "metadata": {},
   "outputs": [],
   "source": []
  },
  {
   "cell_type": "code",
   "execution_count": null,
   "id": "893932e0-f272-477f-bdad-6ba14c2bd312",
   "metadata": {},
   "outputs": [],
   "source": []
  }
 ],
 "metadata": {
  "kernelspec": {
   "display_name": "Python 3 (ipykernel)",
   "language": "python",
   "name": "python3"
  },
  "language_info": {
   "codemirror_mode": {
    "name": "ipython",
    "version": 3
   },
   "file_extension": ".py",
   "mimetype": "text/x-python",
   "name": "python",
   "nbconvert_exporter": "python",
   "pygments_lexer": "ipython3",
   "version": "3.11.7"
  }
 },
 "nbformat": 4,
 "nbformat_minor": 5
}
